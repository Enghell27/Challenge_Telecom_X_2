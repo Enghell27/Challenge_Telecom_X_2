{
  "nbformat": 4,
  "nbformat_minor": 0,
  "metadata": {
    "colab": {
      "provenance": []
    },
    "kernelspec": {
      "name": "python3",
      "display_name": "Python 3"
    },
    "language_info": {
      "name": "python"
    }
  },
  "cells": [
    {
      "cell_type": "code",
      "execution_count": 40,
      "metadata": {
        "id": "P4X962wz87zO"
      },
      "outputs": [],
      "source": [
        "import pandas as pd\n",
        "import numpy as np\n",
        "import requests\n",
        "import matplotlib.pyplot as plt\n",
        "import seaborn as sns\n",
        "\n",
        "from sklearn.model_selection import train_test_split\n",
        "from sklearn.preprocessing import OneHotEncoder, MinMaxScaler\n",
        "from sklearn.compose import make_column_transformer\n",
        "from sklearn.metrics import (\n",
        "    accuracy_score, precision_score, recall_score, f1_score,\n",
        "    confusion_matrix, ConfusionMatrixDisplay, classification_report\n",
        ")\n",
        "from sklearn.tree import DecisionTreeClassifier\n",
        "from sklearn.neighbors import KNeighborsClassifier"
      ]
    },
    {
      "cell_type": "code",
      "source": [
        "# 1. Cargar datos desde URL (JSON)\n",
        "url = 'https://raw.githubusercontent.com/ingridcristh/challenge2-data-science-LATAM/main/TelecomX_Data.json'\n",
        "response = requests.get(url)\n",
        "df = response.json()\n",
        "datos = pd.json_normalize(df)"
      ],
      "metadata": {
        "id": "36y3iOvjAm2T"
      },
      "execution_count": 41,
      "outputs": []
    },
    {
      "cell_type": "code",
      "source": [
        "datos_columnas_categoricas = [\"Churn\", \"customer.Partner\", \"customer.Dependents\",\n",
        "                              \"phone.PhoneService\", \"account.PaperlessBilling\",\"customer.gender\", \"phone.MultipleLines\", \"internet.InternetService\",\n",
        "                 \"internet.OnlineSecurity\", \"internet.OnlineBackup\",\n",
        "                 \"internet.DeviceProtection\", \"internet.TechSupport\",\n",
        "                 \"internet.StreamingTV\", \"internet.StreamingMovies\",\n",
        "                 \"account.Contract\", \"account.PaymentMethod\"]\n",
        "datos_columnas_flotantes = [\"account.Charges.Total\"]"
      ],
      "metadata": {
        "id": "7HnM2LVICKiN"
      },
      "execution_count": 42,
      "outputs": []
    },
    {
      "cell_type": "code",
      "source": [
        "datos[datos_columnas_categoricas] = datos[datos_columnas_categoricas].astype(\"category\")\n",
        "datos[\"account.Charges.Total\"] = datos[\"account.Charges.Total\"].replace(\" \", \"0\").astype(\"float64\")\n"
      ],
      "metadata": {
        "id": "YGkk7m5xCO2I"
      },
      "execution_count": 43,
      "outputs": []
    },
    {
      "cell_type": "code",
      "source": [
        "datos[\"Cuentas.diarias\"] = datos[\"account.Charges.Total\"] /30"
      ],
      "metadata": {
        "id": "k60eCDriCdxj"
      },
      "execution_count": 44,
      "outputs": []
    },
    {
      "cell_type": "code",
      "source": [
        "# Reemplazamos cadenas vacías o espacios por NaN\n",
        "datos['Churn'] = datos['Churn'].replace(\"\", np.nan)\n",
        "datos['account.Charges.Total'] = datos['account.Charges.Total'].replace(\" \", np.nan)\n",
        "\n",
        "# Eliminamos las filas donde Churn o Charges.Total sean NaN\n",
        "datos = datos.dropna(subset=['Churn', 'account.Charges.Total'])"
      ],
      "metadata": {
        "id": "x6w2CzgIDMkA"
      },
      "execution_count": 48,
      "outputs": []
    },
    {
      "cell_type": "code",
      "source": [
        "# 2. Separar X e y\n",
        "y = datos[\"Churn\"].apply(lambda x: 1 if x == \"Yes\" else 0)  # Convertimos a 0/1\n",
        "X = datos.drop(columns=[\"Churn\"])"
      ],
      "metadata": {
        "id": "wsKXD52MFwiD"
      },
      "execution_count": 49,
      "outputs": []
    },
    {
      "cell_type": "code",
      "source": [
        "# 3. Encoding de variables categóricas\n",
        "categoricas = X.select_dtypes(include=[\"category\", \"object\"]).columns\n",
        "one_hot = make_column_transformer(\n",
        "    (OneHotEncoder(drop=\"if_binary\"), categoricas),\n",
        "    remainder=\"passthrough\",\n",
        "    sparse_threshold=0\n",
        ")\n",
        "\n",
        "X_encoded = one_hot.fit_transform(X)\n",
        "X_encoded = pd.DataFrame(X_encoded, columns=one_hot.get_feature_names_out(X.columns))\n"
      ],
      "metadata": {
        "id": "dT7IMHGXFxNK"
      },
      "execution_count": 51,
      "outputs": []
    },
    {
      "cell_type": "code",
      "source": [
        "# 4. Normalización (para KNN)\n",
        "scaler = MinMaxScaler()\n",
        "X_normalizado = scaler.fit_transform(X_encoded)\n"
      ],
      "metadata": {
        "id": "J-N3xUFPF1IR"
      },
      "execution_count": 53,
      "outputs": []
    },
    {
      "cell_type": "code",
      "source": [
        "# 5. Proporción de churn\n",
        "print(\"Proporción de churn:\")\n",
        "print(y.value_counts(normalize=True))"
      ],
      "metadata": {
        "id": "G668_IxoF4aC"
      },
      "execution_count": null,
      "outputs": []
    },
    {
      "cell_type": "code",
      "source": [
        "# 6. Análisis de correlación\n",
        "plt.figure(figsize=(10,6))\n",
        "sns.heatmap(X_encoded.corr(), cmap=\"coolwarm\")\n",
        "plt.title(\"Matriz de Correlación\")\n",
        "plt.show()\n"
      ],
      "metadata": {
        "id": "oSL5Z0X1GbOt"
      },
      "execution_count": null,
      "outputs": []
    },
    {
      "cell_type": "code",
      "source": [
        "# 7. Análisis dirigido: tenure y account.Charges.Total\n",
        "plt.figure(figsize=(6,4))\n",
        "sns.boxplot(x=y, y=datos[\"customer.tenure\"])\n",
        "plt.title(\"Tenure vs Churn\")\n",
        "plt.show()\n",
        "\n",
        "plt.figure(figsize=(6,4))\n",
        "sns.boxplot(x=y, y=datos[\"account.Charges.Total\"])\n",
        "plt.title(\"Gasto total vs Churn\")\n",
        "plt.show()\n"
      ],
      "metadata": {
        "id": "0ng3OFRKGebN"
      },
      "execution_count": null,
      "outputs": []
    },
    {
      "cell_type": "code",
      "source": [
        "# 8. División de datos\n",
        "X_train, X_test, y_train, y_test = train_test_split(\n",
        "    X_encoded, y, test_size=0.3, stratify=y, random_state=5\n",
        ")\n",
        "\n",
        "X_train_norm, X_test_norm, _, _ = train_test_split(\n",
        "    X_normalizado, y, test_size=0.3, stratify=y, random_state=5\n",
        ")\n"
      ],
      "metadata": {
        "id": "b17UkJmAGjRd"
      },
      "execution_count": null,
      "outputs": []
    },
    {
      "cell_type": "code",
      "source": [
        "# 9. Modelos\n",
        "## Árbol de decisión\n",
        "arbol = DecisionTreeClassifier(max_depth=5, random_state=5)\n",
        "arbol.fit(X_train, y_train)\n",
        "y_pred_arbol = arbol.predict(X_test)\n",
        "\n",
        "## KNN\n",
        "knn = KNeighborsClassifier(n_neighbors=5)\n",
        "knn.fit(X_train_norm, y_train)\n",
        "y_pred_knn = knn.predict(X_test_norm)\n"
      ],
      "metadata": {
        "id": "QEme-GkwGmxw"
      },
      "execution_count": null,
      "outputs": []
    },
    {
      "cell_type": "code",
      "source": [
        "# 10. Evaluación\n",
        "def evaluar_modelo(nombre, y_true, y_pred):\n",
        "    print(f\"\\nResultados para {nombre}:\")\n",
        "    print(f\"Exactitud: {accuracy_score(y_true,y_pred):.4f}\")\n",
        "    print(f\"Precisión: {precision_score(y_true,y_pred):.4f}\")\n",
        "    print(f\"Recall: {recall_score(y_true,y_pred):.4f}\")\n",
        "    print(f\"F1-score: {f1_score(y_true,y_pred):.4f}\")\n",
        "    print(\"\\nMatriz de confusión:\")\n",
        "    ConfusionMatrixDisplay(confusion_matrix(y_true,y_pred)).plot()\n",
        "    plt.show()\n",
        "    print(\"\\nReporte completo:\")\n",
        "    print(classification_report(y_true,y_pred))\n",
        "\n",
        "evaluar_modelo(\"Árbol de Decisión\", y_test, y_pred_arbol)\n",
        "evaluar_modelo(\"KNN\", y_test, y_pred_knn)"
      ],
      "metadata": {
        "id": "va5vHTwmGpa8"
      },
      "execution_count": null,
      "outputs": []
    }
  ]
}